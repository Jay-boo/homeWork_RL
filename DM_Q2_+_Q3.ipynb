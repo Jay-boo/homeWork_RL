{
 "cells": [
  {
   "attachments": {},
   "cell_type": "markdown",
   "metadata": {},
   "source": [
    "# 2. Implement efficiently the Fibonacci computation (recursion)"
   ]
  },
  {
   "attachments": {},
   "cell_type": "markdown",
   "metadata": {},
   "source": [
    "Voici une implémentation de Fibonacci récursive mais pas optimisée :"
   ]
  },
  {
   "cell_type": "code",
   "execution_count": 1,
   "metadata": {},
   "outputs": [],
   "source": [
    "def fibo(n):\n",
    "    assert isinstance(n, int)  , 'n has to be a positive integer'\n",
    "    assert n>=0 , 'n has to be a positive integer'\n",
    "    if n <=1:\n",
    "        return n\n",
    "    else:\n",
    "        return fibo(n-1)+fibo(n-2)"
   ]
  },
  {
   "cell_type": "code",
   "execution_count": 5,
   "metadata": {},
   "outputs": [
    {
     "name": "stdout",
     "output_type": "stream",
     "text": [
      "832040\n"
     ]
    }
   ],
   "source": [
    "print(fibo(30))"
   ]
  },
  {
   "attachments": {},
   "cell_type": "markdown",
   "metadata": {},
   "source": [
    "Pour implémenter Fibonacci de manière linéaire, il faut éviter de recalculer plusieurs fois des valeurs pour le meme nombre.\n",
    "Pour cela, on enregistre toutes les valeurs de fibonacci dans une liste pour y accéder facilement.\n",
    "On augmente cependant la complexité spatiale par la meme occasion (tradeoff entre complexité temporelle et spatiale)."
   ]
  },
  {
   "cell_type": "code",
   "execution_count": 3,
   "metadata": {},
   "outputs": [],
   "source": [
    "def linear_fibonacci(n):\n",
    "\n",
    "  # On initialise la liste\n",
    "  fibs = [0, 1]\n",
    "  for i in range(2, n+1):\n",
    "    fibs.append(fibs[-1] + fibs[-2])\n",
    "\n",
    "  # On retourne la valeur qui nous intéresse (la dernière)\n",
    "  return fibs[-1]"
   ]
  },
  {
   "cell_type": "code",
   "execution_count": 6,
   "metadata": {},
   "outputs": [
    {
     "name": "stdout",
     "output_type": "stream",
     "text": [
      "832040\n"
     ]
    }
   ],
   "source": [
    "print(linear_fibonacci(30))"
   ]
  },
  {
   "attachments": {},
   "cell_type": "markdown",
   "metadata": {},
   "source": [
    "On remarque que la deuxième implémentation est beaucoup plus rapide pour calculer la valeur associée à 30."
   ]
  },
  {
   "attachments": {},
   "cell_type": "markdown",
   "metadata": {},
   "source": [
    "# 3. Solve the Arsène Lupin problem (dynamic programming )."
   ]
  },
  {
   "cell_type": "code",
   "execution_count": 4,
   "metadata": {},
   "outputs": [],
   "source": [
    "import numpy as np\n",
    "import matplotlib.pyplot as plt"
   ]
  },
  {
   "cell_type": "code",
   "execution_count": 5,
   "metadata": {},
   "outputs": [],
   "source": [
    "def max_money(houses):\n",
    "    assert all([isinstance(house, int) for house in houses]), 'All amount should be integer'\n",
    "    n = len(houses)\n",
    "    assert n > 0 , 'No house to rob'\n",
    "    if n == 1:\n",
    "        return [houses[0]] , [[0]]\n",
    "    elif n == 2:\n",
    "        return [max(houses)] , [[np.argmax(houses)]]\n",
    "    else:\n",
    "        amount = [0]*n \n",
    "        house_to_rob = [None] *n\n",
    "        amount[0] = houses[0]\n",
    "        house_to_rob[0] = [0]\n",
    "\n",
    "        amount[1] = max(houses[0:2])\n",
    "        house_to_rob[1] = [np.argmax(houses[0:2])]\n",
    "\n",
    "        for i in range(2, n):\n",
    "            if amount[i-2]+houses[i] > amount[i-1]: # if better result wit the new house\n",
    "                amount[i] = amount[i-2]+houses[i]\n",
    "                house_to_rob[i] = house_to_rob[i-2]+[i]\n",
    "            else: # if the result with the new house is not best\n",
    "                amount[i] = amount[i-1]\n",
    "                house_to_rob[i] = house_to_rob[i-1]\n",
    "        return amount,house_to_rob"
   ]
  },
  {
   "cell_type": "code",
   "execution_count": 6,
   "metadata": {},
   "outputs": [
    {
     "name": "stdout",
     "output_type": "stream",
     "text": [
      "12 [0, 2, 5]\n"
     ]
    }
   ],
   "source": [
    "houses = [2, 1,6,1,1,4]\n",
    "amount , rob = max_money(houses)\n",
    "print(amount[-1],rob[-1])"
   ]
  },
  {
   "cell_type": "code",
   "execution_count": 7,
   "metadata": {},
   "outputs": [],
   "source": [
    "def plot_houses(houses , amount =None , houses_to_rob=None):\n",
    "    fig, ax = plt.subplots()\n",
    "    n=len(houses)\n",
    "    if not amount or not houses_to_rob: #si on utilise change_amount()\n",
    "        amount,houses_to_rob = max_money(houses)\n",
    "        amount=amount[-1]\n",
    "        houses_to_rob = houses_to_rob[-1]\n",
    "\n",
    "    ax.bar(range(n), houses, color='red',label='pass')\n",
    "    ax.bar(houses_to_rob[0], houses[houses_to_rob[0]], color='green',label='rob') # duplicate just for good legend\n",
    "    for i in houses_to_rob[1:]:\n",
    "        ax.bar(i, houses[i], color='green')\n",
    "    ax.set_title(f\"Houses to rob to get {amount}$\")\n",
    "    ax.set_xlabel(\"House\")\n",
    "    ax.set_ylabel(\"Money\")\n",
    "    ax.legend()\n",
    "    return fig \n",
    " "
   ]
  },
  {
   "cell_type": "code",
   "execution_count": 9,
   "metadata": {},
   "outputs": [
    {
     "name": "stdout",
     "output_type": "stream",
     "text": [
      "[31, 46, 38, 73, 13, 80, 65, 60, 3, 88, 30, 32, 43, 22, 85, 31, 84, 47, 74, 31]\n"
     ]
    },
    {
     "data": {
      "image/png": "[encoded data removed]",
      "text/plain": [
       "<Figure size 640x480 with 1 Axes>"
      ]
     },
     "metadata": {},
     "output_type": "display_data"
    }
   ],
   "source": [
    "import random\n",
    "\n",
    "houses = [31, 46, 38, 73, 13, 80, 65, 60, 3, 88, 30, 32, 43, 22, 85, 31, 84, 47, 74, 31]\n",
    "#[random.randint(0, 90) for i in range(0,50)]\n",
    "amount , rob = max_money(houses)\n",
    "print(houses)\n",
    "fig = plot_houses(houses)"
   ]
  },
  {
   "cell_type": "code",
   "execution_count": 10,
   "metadata": {},
   "outputs": [],
   "source": [
    "# bonus on change le montant de la maison i sans avoir à tout recalculer\n",
    "def change_amount(houses,amount,house_to_rob,index,new_val):\n",
    "    assert all([isinstance(house, int) for house in houses]), 'All amount should be integer'\n",
    "    n = len(houses)\n",
    "    assert n > 0 , 'No house to rob'\n",
    "    if index <= n-3:\n",
    "        old_ammount  = amount[index+2]\n",
    "    houses[index] = new_val\n",
    "\n",
    "    if n == 1:\n",
    "        return [houses[0]] , [[0]]\n",
    "    elif n == 2:\n",
    "        return [max(houses)] , [[np.argmax(houses)]]\n",
    "    \n",
    "    if index == 0 or index ==1:\n",
    "        amount[0] = houses[0]\n",
    "        house_to_rob[0] = [0]\n",
    "\n",
    "        amount[1] = max(houses[0:2])\n",
    "        house_to_rob[1] = [np.argmax(houses[0:2])]\n",
    "\n",
    "    for i in range(max(index,2),n):\n",
    "            if amount[i-2]+houses[i] > amount[i-1]:\n",
    "                amount[i] = amount[i-2]+houses[i]\n",
    "                house_to_rob[i] = house_to_rob[i-2]+[i]\n",
    "            else:\n",
    "                amount[i] = amount[i-1]\n",
    "                house_to_rob[i] = house_to_rob[i-1]\n",
    "            if i==index+2:\n",
    "                 if old_ammount == amount[i]:  #s'il la modification n'a pas fais de nouveau changement \n",
    "                    return amount,house_to_rob\n",
    "    return amount,house_to_rob\n",
    "                     \n",
    "                 \n",
    "\n",
    "        "
   ]
  },
  {
   "attachments": {},
   "cell_type": "markdown",
   "metadata": {},
   "source": [
    "### App with a GUI (tkinter)"
   ]
  },
  {
   "cell_type": "code",
   "execution_count": null,
   "metadata": {},
   "outputs": [],
   "source": [
    "import tkinter as tk\n",
    "from matplotlib.backends.backend_tkagg import FigureCanvasTkAgg\n",
    "\n",
    "\n",
    "def calculate():\n",
    "    houses=[]\n",
    "    for entry in houses_entries: \n",
    "        try:\n",
    "            houses.append(int(entry.get()))\n",
    "        except:\n",
    "            pass\n",
    "    try:\n",
    "        amount , rob = max_money(houses)\n",
    "        result_label.config(text=f\"Maximum amount: {amount[-1]}\")\n",
    "        result_label2.config(text=f\"Index houses to rob : {rob[-1]}\")\n",
    "        fig = plot_houses(houses)\n",
    "        canvas = FigureCanvasTkAgg(fig, master=root)\n",
    "        canvas.get_tk_widget().grid(row=1, column=3, columnspan=5,rowspan=10, padx=5, pady=50)\n",
    "\n",
    "    except ValueError:\n",
    "        result_label.config(text=\"Invalid input\")\n",
    "\n",
    "\n",
    "\n",
    "def create_houses():\n",
    "    global houses_entries\n",
    "    n = int(n_entry.get())\n",
    "    if n > 12:\n",
    "        scrollbar = tk.Scrollbar(root)\n",
    "        scrollbar.grid(row=1, column=2, rowspan=15, padx=5, pady=5)\n",
    "\n",
    "    houses_text = tk.Text(root, width=35, height=16, yscrollcommand=scrollbar.set if n > 15 else None)\n",
    "    houses_text.grid(row=1, column=0, rowspan=15, columnspan=2, padx=5, pady=5)\n",
    "\n",
    "    if n > 12:\n",
    "        scrollbar.config(command=houses_text.yview)\n",
    "\n",
    "    houses_entries = []\n",
    "    for i in range(n):\n",
    "        houses_text.insert(tk.END, f\"House {i}:\")\n",
    "        entry = tk.Entry(root, width=10)\n",
    "        entry.insert(0,0)\n",
    "        houses_text.window_create(tk.END, window=entry)\n",
    "        houses_text.insert(tk.END, \"\\n\")\n",
    "        houses_entries.append(entry)\n",
    "    return houses_entries\n",
    "\n",
    "\n",
    "root = tk.Tk()\n",
    "root.title(\"Houses Robbing (V2)\")\n",
    "\n",
    "\n",
    "n_entry_label = tk.Label(root, text=\"Enter the number of houses:\")\n",
    "n_entry_label.grid(row=0, column=0, padx=5, pady=5)\n",
    "\n",
    "n_entry = tk.Entry(root, width=10)\n",
    "n_entry.grid(row=0, column=1, padx=5, pady=5)\n",
    "\n",
    "\n",
    "\n",
    "button = tk.Button(root, text=\"Create Houses\", command=create_houses)\n",
    "button.grid(row=0, column=2, padx=5, pady=5)\n",
    "\n",
    "button2 = tk.Button(root, text=\"Calculate\", command=calculate)\n",
    "button2.grid(row= 16, column=0, columnspan=2, padx=5, pady=10)\n",
    "\n",
    "\n",
    "result_label = tk.Label(root, text=\"\")\n",
    "result_label.grid(row=17, column=0, columnspan=2, padx=5, pady=10)\n",
    "\n",
    "result_label2 = tk.Label(root, text=\"\")\n",
    "result_label2.grid(row=18, column=0, columnspan=2, padx=5, pady=10)\n",
    "\n",
    "root.mainloop()\n"
   ]
  },
  {
   "cell_type": "code",
   "execution_count": 11,
   "metadata": {},
   "outputs": [],
   "source": [
    "\n",
    "# Old version if the first one without the custom amount of houses\n",
    "import tkinter as tk\n",
    "from matplotlib.backends.backend_tkagg import FigureCanvasTkAgg\n",
    "\n",
    "def update():\n",
    "    houses=[]\n",
    "    for entry in houses_entries: \n",
    "        try:\n",
    "            houses.append(int(entry.get()))\n",
    "        except:\n",
    "            pass\n",
    "    try:\n",
    "        amount , rob = max_money(houses)\n",
    "        result_label.config(text=f\"Maximum amount: {amount[-1]}\")\n",
    "        result_label2.config(text=f\"Index houses to rob : {rob[-1]}\")\n",
    "        fig = plot_houses(houses)\n",
    "        canvas = FigureCanvasTkAgg(fig, master=root)\n",
    "        canvas.get_tk_widget().grid(row=1, column=3, columnspan=5,rowspan=15, padx=5, pady=50)\n",
    "\n",
    "    except ValueError:\n",
    "        result_label.config(text=\"Invalid input\")\n",
    "\n",
    "root = tk.Tk()\n",
    "root.title(\"Houses Robbing\")\n",
    "\n",
    "houses_entries = []\n",
    "for i in range(15):\n",
    "    label = tk.Label(root, text=f\"House {i}:\")\n",
    "    label.grid(row=i, column=0, padx=5, pady=5)\n",
    "    entry = tk.Entry(root, width=10)\n",
    "    entry.insert(0,0)\n",
    "    entry.grid(row=i, column=1, padx=5, pady=5)\n",
    "    houses_entries.append(entry)\n",
    "\n",
    "button = tk.Button(root, text=\"Calculate\", command=update)\n",
    "button.grid(row=i+1, column=0, columnspan=2, padx=5, pady=10)\n",
    "\n",
    "result_label = tk.Label(root, text=\"\")\n",
    "result_label.grid(row=i+2, column=0, columnspan=2, padx=5, pady=10)\n",
    "\n",
    "result_label2 = tk.Label(root, text=\"\")\n",
    "result_label2.grid(row=i+3, column=0, columnspan=2, padx=5, pady=10)\n",
    "\n",
    "root.mainloop()"
   ]
  },
  {
   "cell_type": "code",
   "execution_count": 12,
   "metadata": {},
   "outputs": [
    {
     "data": {
      "image/png": "[encoded data removed]",
      "text/plain": [
       "<Figure size 640x480 with 1 Axes>"
      ]
     },
     "metadata": {},
     "output_type": "display_data"
    }
   ],
   "source": [
    "## V2 with custom number of houses\n",
    "import tkinter as tk\n",
    "\n",
    "def calculate():\n",
    "    houses=[]\n",
    "    for entry in houses_entries: \n",
    "        try:\n",
    "            houses.append(int(entry.get()))\n",
    "        except:\n",
    "            pass\n",
    "    try:\n",
    "        amount , rob = max_money(houses)\n",
    "        result_label.config(text=f\"Maximum amount: {amount[-1]}\")\n",
    "        result_label2.config(text=f\"Index houses to rob : {rob[-1]}\")\n",
    "        fig = plot_houses(houses)\n",
    "        canvas = FigureCanvasTkAgg(fig, master=root)\n",
    "        canvas.get_tk_widget().grid(row=1, column=3, columnspan=5,rowspan=10, padx=5, pady=50)\n",
    "\n",
    "    except ValueError:\n",
    "        result_label.config(text=\"Invalid input\")\n",
    "\n",
    "\n",
    "\n",
    "def create_houses():\n",
    "    global houses_entries\n",
    "    n = int(n_entry.get())\n",
    "    if n > 12:\n",
    "        scrollbar = tk.Scrollbar(root)\n",
    "        scrollbar.grid(row=1, column=2, rowspan=15, padx=5, pady=5)\n",
    "\n",
    "    houses_text = tk.Text(root, width=35, height=16, yscrollcommand=scrollbar.set if n > 15 else None)\n",
    "    houses_text.grid(row=1, column=0, rowspan=15, columnspan=2, padx=5, pady=5)\n",
    "\n",
    "    if n > 12:\n",
    "        scrollbar.config(command=houses_text.yview)\n",
    "\n",
    "    houses_entries = []\n",
    "    for i in range(n):\n",
    "        houses_text.insert(tk.END, f\"House {i}:\")\n",
    "        entry = tk.Entry(root, width=10)\n",
    "        entry.insert(0,0)\n",
    "        houses_text.window_create(tk.END, window=entry)\n",
    "        houses_text.insert(tk.END, \"\\n\")\n",
    "        houses_entries.append(entry)\n",
    "    return houses_entries\n",
    "\n",
    "\n",
    "root = tk.Tk()\n",
    "root.title(\"Houses Robbing\")\n",
    "\n",
    "\n",
    "n_entry_label = tk.Label(root, text=\"Enter the number of houses:\")\n",
    "n_entry_label.grid(row=0, column=0, padx=5, pady=5)\n",
    "\n",
    "n_entry = tk.Entry(root, width=10)\n",
    "n_entry.grid(row=0, column=1, padx=5, pady=5)\n",
    "\n",
    "\n",
    "\n",
    "button = tk.Button(root, text=\"Create Houses\", command=create_houses)\n",
    "button.grid(row=0, column=2, padx=5, pady=5)\n",
    "\n",
    "button2 = tk.Button(root, text=\"Calculate\", command=calculate)\n",
    "button2.grid(row= 16, column=0, columnspan=2, padx=5, pady=10)\n",
    "\n",
    "\n",
    "result_label = tk.Label(root, text=\"\")\n",
    "result_label.grid(row=17, column=0, columnspan=2, padx=5, pady=10)\n",
    "\n",
    "result_label2 = tk.Label(root, text=\"\")\n",
    "result_label2.grid(row=18, column=0, columnspan=2, padx=5, pady=10)\n",
    "\n",
    "root.mainloop()\n"
   ]
  }
 ],
 "metadata": {
  "kernelspec": {
   "display_name": "Python 3",
   "language": "python",
   "name": "python3"
  },
  "language_info": {
   "codemirror_mode": {
    "name": "ipython",
    "version": 3
   },
   "file_extension": ".py",
   "mimetype": "text/x-python",
   "name": "python",
   "nbconvert_exporter": "python",
   "pygments_lexer": "ipython3",
   "version": "3.9.5"
  },
  "orig_nbformat": 4,
  "vscode": {
   "interpreter": {
    "hash": "f3d42ad487b2b2994e012ab0306cc0a65d83ea9d079e1ade1e8453053e613de7"
   }
  }
 },
 "nbformat": 4,
 "nbformat_minor": 2
}
